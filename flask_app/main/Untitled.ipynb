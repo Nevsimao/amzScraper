{
 "cells": [
  {
   "cell_type": "code",
   "execution_count": 11,
   "metadata": {},
   "outputs": [
    {
     "name": "stdout",
     "output_type": "stream",
     "text": [
      "                                          Description   Price  \\\n",
      "0                      Spacebase Startopia - Xbox One  $59.99   \n",
      "1   Xbox Game Pass Ultimate: 1 Month Membership [D...  $14.99   \n",
      "2   Xbox Game Pass Ultimate: 3 Month Membership [D...  $44.88   \n",
      "3   RUNMUS Gaming Headset Xbox One Headset with 7....  $19.99   \n",
      "4   Controller Battery Pack for Xbox Series X|S/Xb...  $21.20   \n",
      "5                        Marvel's Avengers - Xbox One  $24.99   \n",
      "6                                 NBA 2K21 - Xbox One  $18.99   \n",
      "7   Need for Speed: Hot Pursuit Remastered - Xbox One  $19.99   \n",
      "8   Xbox Game Pass Ultimate: 1 Month Membership [D...  $14.99   \n",
      "9   Assassin’s Creed Valhalla Xbox Series X|S, Xbo...  $39.82   \n",
      "10  Xbox Game Pass for PC - 3-Month Membership - P...  $29.99   \n",
      "11      Watch Dogs Legion - Xbox One Standard Edition  $18.99   \n",
      "12                           PGA TOUR 2K21 - Xbox One  $27.99   \n",
      "\n",
      "                       Rating         ReviewCount  \\\n",
      "0           ESRB Rating: Teen                 NaN   \n",
      "1                Jun 13, 2019  4.8 out of 5 stars   \n",
      "2                Jun 13, 2019  4.8 out of 5 stars   \n",
      "3                      80,677  4.4 out of 5 stars   \n",
      "4                      27,336  4.8 out of 5 stars   \n",
      "5           ESRB Rating: Teen  4.5 out of 5 stars   \n",
      "6       ESRB Rating: Everyone  4.8 out of 5 stars   \n",
      "7   ESRB Rating: Everyone 10+  4.6 out of 5 stars   \n",
      "8                Jun 13, 2019  4.8 out of 5 stars   \n",
      "9         ESRB Rating: Mature  4.8 out of 5 stars   \n",
      "10      ESRB Rating: Everyone  4.2 out of 5 stars   \n",
      "11        ESRB Rating: Mature  4.6 out of 5 stars   \n",
      "12      ESRB Rating: Everyone  4.6 out of 5 stars   \n",
      "\n",
      "                                                  Url  \n",
      "0   https://www.amazon.com/gp/slredirect/picassoRe...  \n",
      "1   https://www.amazon.com/gp/slredirect/picassoRe...  \n",
      "2   https://www.amazon.com/Xbox-Game-Pass-Ultimate...  \n",
      "3   https://www.amazon.com/RUNMUS-Surround-Canceli...  \n",
      "4   https://www.amazon.com/BEBONCOOL-Battery-2x220...  \n",
      "5   https://www.amazon.com/Marvels-Avengers-Xbox-O...  \n",
      "6   https://www.amazon.com/NBA-2K21-Xbox-One/dp/B0...  \n",
      "7   https://www.amazon.com/Need-Speed-Hot-Pursuit-...  \n",
      "8   https://www.amazon.com/Xbox-Game-Pass-Ultimate...  \n",
      "9   https://www.amazon.com/Assassins-Creed-Valhall...  \n",
      "10  https://www.amazon.com/gp/slredirect/picassoRe...  \n",
      "11  https://www.amazon.com/Watch-Dogs-Legion-Xbox-...  \n",
      "12  https://www.amazon.com/PGA-TOUR-2K21-Xbox-One/...  \n"
     ]
    }
   ],
   "source": [
    "import pandas as pd\n",
    "df = pd.read_csv('results.csv')\n",
    "print(df)"
   ]
  },
  {
   "cell_type": "code",
   "execution_count": null,
   "metadata": {},
   "outputs": [],
   "source": []
  }
 ],
 "metadata": {
  "kernelspec": {
   "display_name": "Python 3",
   "language": "python",
   "name": "python3"
  },
  "language_info": {
   "codemirror_mode": {
    "name": "ipython",
    "version": 3
   },
   "file_extension": ".py",
   "mimetype": "text/x-python",
   "name": "python",
   "nbconvert_exporter": "python",
   "pygments_lexer": "ipython3",
   "version": "3.8.5"
  }
 },
 "nbformat": 4,
 "nbformat_minor": 4
}
